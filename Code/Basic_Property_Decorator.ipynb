{
 "metadata": {
  "language_info": {
   "codemirror_mode": {
    "name": "ipython",
    "version": 3
   },
   "file_extension": ".py",
   "mimetype": "text/x-python",
   "name": "python",
   "nbconvert_exporter": "python",
   "pygments_lexer": "ipython3",
   "version": "3.8.3-final"
  },
  "orig_nbformat": 2,
  "kernelspec": {
   "name": "python3",
   "display_name": "Python 3",
   "language": "python"
  }
 },
 "nbformat": 4,
 "nbformat_minor": 2,
 "cells": [
  {
   "cell_type": "code",
   "execution_count": 1,
   "metadata": {},
   "outputs": [
    {
     "output_type": "execute_result",
     "data": {
      "text/plain": [
       "'D:\\\\anaconda3\\\\python.exe'"
      ]
     },
     "metadata": {},
     "execution_count": 1
    }
   ],
   "source": [
    "# check current kernel\n",
    "import sys\n",
    "sys.executable"
   ]
  },
  {
   "cell_type": "code",
   "execution_count": 2,
   "metadata": {},
   "outputs": [],
   "source": [
    "import math"
   ]
  },
  {
   "cell_type": "code",
   "execution_count": 3,
   "metadata": {},
   "outputs": [],
   "source": [
    "# class Point\n",
    "class Point:\n",
    "    def __init__(self, x = 0, y = 0):\n",
    "        self.x = x\n",
    "        self.y = y\n",
    "    \n",
    "    def distance_from_origin(self):\n",
    "        return math.hypot(self.x, self.y)\n",
    "    \n",
    "    def __eq__(self, other):\n",
    "        return self.x == other.x and self.y == other.y\n",
    "    \n",
    "    def __repr__(self):\n",
    "        return \"Point({0.x!r}, {0.y!r})\".format(self)\n",
    "    \n",
    "    def __str__(self):\n",
    "        return \"({0.x!r}, {0.y!r})\".format(self)"
   ]
  },
  {
   "cell_type": "code",
   "execution_count": 4,
   "metadata": {},
   "outputs": [
    {
     "output_type": "execute_result",
     "data": {
      "text/plain": [
       "'Point(0, 0)'"
      ]
     },
     "metadata": {},
     "execution_count": 4
    }
   ],
   "source": [
    "a = Point()\n",
    "repr(a)"
   ]
  },
  {
   "cell_type": "code",
   "execution_count": 5,
   "metadata": {},
   "outputs": [
    {
     "output_type": "execute_result",
     "data": {
      "text/plain": [
       "'(3, 4)'"
      ]
     },
     "metadata": {},
     "execution_count": 5
    }
   ],
   "source": [
    "b = Point(3, 4)\n",
    "str(b)"
   ]
  },
  {
   "cell_type": "code",
   "execution_count": 6,
   "metadata": {},
   "outputs": [
    {
     "output_type": "execute_result",
     "data": {
      "text/plain": [
       "5.0"
      ]
     },
     "metadata": {},
     "execution_count": 6
    }
   ],
   "source": [
    "b.distance_from_origin()"
   ]
  },
  {
   "cell_type": "code",
   "execution_count": 7,
   "metadata": {},
   "outputs": [
    {
     "output_type": "execute_result",
     "data": {
      "text/plain": [
       "'(-19, 4)'"
      ]
     },
     "metadata": {},
     "execution_count": 7
    }
   ],
   "source": [
    "b.x = -19\n",
    "str(b)"
   ]
  },
  {
   "cell_type": "code",
   "execution_count": 8,
   "metadata": {},
   "outputs": [
    {
     "output_type": "execute_result",
     "data": {
      "text/plain": [
       "(False, True)"
      ]
     },
     "metadata": {},
     "execution_count": 8
    }
   ],
   "source": [
    "a == b, a != b"
   ]
  },
  {
   "source": [
    "### special method __eq__()\n",
    "By re-writing __eq__(), == operator is valid between two instances of a class.\n",
    "\n",
    "Before the __eq__() method is implemented, we cannot compare any two instances of a class.\n",
    "Thus, the result of a == b is always False. Besides, any instance is hashable(means it is unique and can be the key of dictionary, or the element of sets).\n",
    "\n",
    "After the __eq__() menthod is implemented, instances of the class are no longer hashable.\n",
    "\n",
    "### special method __repr__()"
   ],
   "cell_type": "markdown",
   "metadata": {}
  },
  {
   "source": [
    "\n"
   ],
   "cell_type": "markdown",
   "metadata": {}
  },
  {
   "cell_type": "code",
   "execution_count": 9,
   "metadata": {},
   "outputs": [],
   "source": [
    "# class Circle\n",
    "class Circle(Point):\n",
    "    def __init__(self, radius, x = 0, y = 0):\n",
    "        super().__init__(x, y)\n",
    "        self.radius = radius\n",
    "    \n",
    "    def edge_distance_from_origin(self):\n",
    "        return abs(self.distance_from_origin() - self.radius)\n",
    "\n",
    "    def area(self):\n",
    "        return math.pi * (self.radius ** 2)\n",
    "    \n",
    "    def circumference(self):\n",
    "        return 2 * math.pi * self.radius\n",
    "    \n",
    "    def __eq__(self, other):\n",
    "        return super().__eq__(other) and self.radius == other.radius\n",
    "\n",
    "    def __repr__(self):\n",
    "        return \"Circle({0.radius!r}, {0.x!r}, {0.y!r})\".format(self)\n",
    "\n",
    "    def __str__(self):\n",
    "        return repr(self)"
   ]
  },
  {
   "cell_type": "code",
   "execution_count": 10,
   "metadata": {},
   "outputs": [
    {
     "output_type": "execute_result",
     "data": {
      "text/plain": [
       "(53.0, 53.0)"
      ]
     },
     "metadata": {},
     "execution_count": 10
    }
   ],
   "source": [
    "p = Point(28, 45)\n",
    "c = Circle(5, 28, 45)\n",
    "p.distance_from_origin(), c.distance_from_origin()"
   ]
  },
  {
   "source": [
    "# Restriction on access and modification of attributes of an instance from outside"
   ],
   "cell_type": "markdown",
   "metadata": {}
  },
  {
   "source": [
    "## Use method: write get method and set method"
   ],
   "cell_type": "markdown",
   "metadata": {}
  },
  {
   "cell_type": "code",
   "execution_count": 11,
   "metadata": {},
   "outputs": [],
   "source": [
    "# without restriction\n",
    "class Student():\n",
    "    def __init__(self, name, score):\n",
    "        self.name = name\n",
    "        self.score = score\n",
    "\n",
    "bart = Student(\"Bart Simpson\", 59)"
   ]
  },
  {
   "cell_type": "code",
   "execution_count": 12,
   "metadata": {},
   "outputs": [
    {
     "output_type": "execute_result",
     "data": {
      "text/plain": [
       "('Bart Simpson', 59)"
      ]
     },
     "metadata": {},
     "execution_count": 12
    }
   ],
   "source": [
    "# access to internal attributes\r\n",
    "bart.name, bart.score"
   ]
  },
  {
   "cell_type": "code",
   "execution_count": 13,
   "metadata": {},
   "outputs": [
    {
     "output_type": "execute_result",
     "data": {
      "text/plain": [
       "('Bart Aaron', 99)"
      ]
     },
     "metadata": {},
     "execution_count": 13
    }
   ],
   "source": [
    "## modification to internal attributes\n",
    "bart.name = \"Bart Aaron\"\n",
    "bart.score = 99\n",
    "bart.name, bart.score"
   ]
  },
  {
   "cell_type": "code",
   "execution_count": 14,
   "metadata": {},
   "outputs": [],
   "source": [
    "# use private attributes (starting with __, not ending with __) to avoid access from outside directly\n",
    "class Student():\n",
    "    def __init__(self, name, score):\n",
    "        self.__name = name\n",
    "        self.__score = score\n",
    "    \n",
    "    def print_score(self):\n",
    "        print(\"%s: %s\" % (self.__name, self.__score)) ## access from inside is valid"
   ]
  },
  {
   "cell_type": "code",
   "execution_count": 15,
   "metadata": {},
   "outputs": [
    {
     "output_type": "error",
     "ename": "AttributeError",
     "evalue": "'Student' object has no attribute '__name'",
     "traceback": [
      "\u001b[1;31m---------------------------------------------------------------------------\u001b[0m",
      "\u001b[1;31mAttributeError\u001b[0m                            Traceback (most recent call last)",
      "\u001b[1;32m<ipython-input-15-359559a0d8ef>\u001b[0m in \u001b[0;36m<module>\u001b[1;34m\u001b[0m\n\u001b[0;32m      1\u001b[0m \u001b[0mbart\u001b[0m \u001b[1;33m=\u001b[0m \u001b[0mStudent\u001b[0m\u001b[1;33m(\u001b[0m\u001b[1;34m\"Bart Simpson\"\u001b[0m\u001b[1;33m,\u001b[0m \u001b[1;36m59\u001b[0m\u001b[1;33m)\u001b[0m\u001b[1;33m\u001b[0m\u001b[1;33m\u001b[0m\u001b[0m\n\u001b[0;32m      2\u001b[0m \u001b[1;31m# try to access the attribute __name: banned\u001b[0m\u001b[1;33m\u001b[0m\u001b[1;33m\u001b[0m\u001b[1;33m\u001b[0m\u001b[0m\n\u001b[1;32m----> 3\u001b[1;33m \u001b[0mbart\u001b[0m\u001b[1;33m.\u001b[0m\u001b[0m__name\u001b[0m\u001b[1;33m\u001b[0m\u001b[1;33m\u001b[0m\u001b[0m\n\u001b[0m",
      "\u001b[1;31mAttributeError\u001b[0m: 'Student' object has no attribute '__name'"
     ]
    }
   ],
   "source": [
    "bart = Student(\"Bart Simpson\", 59)\n",
    "# try to access the attribute __name: banned\n",
    "bart.__name"
   ]
  },
  {
   "cell_type": "code",
   "execution_count": 16,
   "metadata": {},
   "outputs": [],
   "source": [
    "# what if we need to access the internal attributes safely(read-only)?\n",
    "# use method instead\n",
    "class Student():\n",
    "    def __init__(self, name, score):\n",
    "        self.__name = name\n",
    "        self.__score = score\n",
    "    \n",
    "    def print_score(self):\n",
    "        print(\"%s: %s\" % (self.__name, self.__score)) ## access from inside is valid\n",
    "\n",
    "    def get_name(self):\n",
    "        return self.__name\n",
    "    \n",
    "    def get_score(self):\n",
    "        return self.__score\n",
    "bart = Student(\"Bart Simpson\", 59)"
   ]
  },
  {
   "cell_type": "code",
   "execution_count": 17,
   "metadata": {},
   "outputs": [
    {
     "output_type": "execute_result",
     "data": {
      "text/plain": [
       "('Bart Simpson', 59)"
      ]
     },
     "metadata": {},
     "execution_count": 17
    }
   ],
   "source": [
    "bart.get_name(), bart.get_score()"
   ]
  },
  {
   "cell_type": "code",
   "execution_count": 18,
   "metadata": {},
   "outputs": [
    {
     "output_type": "error",
     "ename": "AttributeError",
     "evalue": "'Student' object has no attribute '__name'",
     "traceback": [
      "\u001b[1;31m---------------------------------------------------------------------------\u001b[0m",
      "\u001b[1;31mAttributeError\u001b[0m                            Traceback (most recent call last)",
      "\u001b[1;32m<ipython-input-18-d6bfc607b5b8>\u001b[0m in \u001b[0;36m<module>\u001b[1;34m\u001b[0m\n\u001b[0;32m      1\u001b[0m \u001b[1;31m# while direct access is still banned\u001b[0m\u001b[1;33m\u001b[0m\u001b[1;33m\u001b[0m\u001b[1;33m\u001b[0m\u001b[0m\n\u001b[1;32m----> 2\u001b[1;33m \u001b[0mbart\u001b[0m\u001b[1;33m.\u001b[0m\u001b[0m__name\u001b[0m\u001b[1;33m\u001b[0m\u001b[1;33m\u001b[0m\u001b[0m\n\u001b[0m",
      "\u001b[1;31mAttributeError\u001b[0m: 'Student' object has no attribute '__name'"
     ]
    }
   ],
   "source": [
    "# while direct access is still banned\n",
    "bart.__name"
   ]
  },
  {
   "cell_type": "code",
   "execution_count": 19,
   "metadata": {},
   "outputs": [],
   "source": [
    "# what if we need to modify the internal attributes safely(read-only)?\n",
    "# use method instead. The setting method can have conditions.\n",
    "class Student():\n",
    "    def __init__(self, name, score):\n",
    "        self.__name = name\n",
    "        self.__score = score\n",
    "    \n",
    "    def print_score(self):\n",
    "        print(\"%s: %s\" % (self.__name, self.__score)) ## access from inside is valid\n",
    "\n",
    "    def get_name(self):\n",
    "        return self.__name\n",
    "    \n",
    "    def get_score(self):\n",
    "        return self.__score\n",
    "    \n",
    "    def set_name(self, new_name):\n",
    "        if isinstance(new_name, str) and len(new_name) > 0:\n",
    "            self.__name = new_name\n",
    "        else:\n",
    "            raise ValueError(\"Bad name\")\n",
    "    \n",
    "    def set_score(self, new_score):\n",
    "        if new_score >=0 and new_score <= 100:\n",
    "            self.__score = new_score\n",
    "        else:\n",
    "            raise ValueError(\"Bad score\")\n",
    "bart = Student(\"Bart Simpson\", 59)"
   ]
  },
  {
   "cell_type": "code",
   "execution_count": 20,
   "metadata": {},
   "outputs": [
    {
     "output_type": "execute_result",
     "data": {
      "text/plain": [
       "('Bart Simpson', 59)"
      ]
     },
     "metadata": {},
     "execution_count": 20
    }
   ],
   "source": [
    "bart.get_name(), bart.get_score()"
   ]
  },
  {
   "cell_type": "code",
   "execution_count": 21,
   "metadata": {},
   "outputs": [
    {
     "output_type": "execute_result",
     "data": {
      "text/plain": [
       "('Bart Aaron', 99)"
      ]
     },
     "metadata": {},
     "execution_count": 21
    }
   ],
   "source": [
    "bart.set_name(\"Bart Aaron\")\n",
    "bart.set_score(99)\n",
    "bart.get_name(), bart.get_score()"
   ]
  },
  {
   "source": [
    "## Use decorator: Built-in function Property\n",
    "As we can see above, if we use methods to get or set attributes, it's always looking like to deploy methods.\n",
    "\n",
    "For e.g,\n",
    "\n",
    "     Student_bart.get_name()\n",
    "\n",
    "     Student_bart.set_score(99)\n",
    "\n",
    "What if we want to make the method deploy more close to getting and setting attributes?\n",
    "\n",
    "For e.g,\n",
    "\n",
    "     Student_bart.name,\n",
    "     \n",
    "     Student_bart.score = 99"
   ],
   "cell_type": "markdown",
   "metadata": {}
  },
  {
   "cell_type": "code",
   "execution_count": 22,
   "metadata": {},
   "outputs": [],
   "source": [
    "# New Circle\n",
    "# 我们重新设计Circle类，这次我们用私有的__radius作为attribute(这样__radius受保护，无法从外界access或modify)\n",
    "# 把radius设置成特性(characteristic or property, 本质是仅靠自身self就可以确定的量，无需另外参数，面积、周长都是)\n",
    "# 设置特性：意思就是把一个内禀的方法(a method only takes self as input), 用@property修饰器修饰。那么该方法就成为了一个特性。\n",
    "# 所以特性本质就是一个方法，它可以从外部调用（看作attribute调用而不是当方法调用）。\n",
    "class Circle(Point):\n",
    "    def __init__(self, radius, x = 0, y = 0):\n",
    "        super().__init__(x, y)\n",
    "        self.__radius = radius\n",
    "    \n",
    "    @property #@property修饰一个属性(一般是私有属性)的getter方法时，等价于 radius = property(radius)\n",
    "    def radius(self): #私有属性的getter方法\n",
    "        return self.__radius\n",
    "    \n",
    "    # 用@property修饰一个私有属性的getter方法之后，可以用其衍生的修饰器修饰该私有属性的setter方法和deleter方法(与getter方法同名)。\n",
    "    @radius.setter #衍生自radius，这个__radius的getter方法。注意修饰器名字为getter方法的名字.setter。\n",
    "    def radius(self, new_radius): #私有属性的setter方法，注意函数名与该私有属性的getter方法相同。修饰器会自动处理重名。\n",
    "        assert new_radius > 0, \"radius must be positive\"\n",
    "        self.__radius = new_radius\n",
    "    \n",
    "    # 可以看出，edge_distance_from_origin也是一个内禀的方法(只有self输入)，所以它也可以被property修饰成一个特性。\n",
    "    # 但显然我们不能set这个edge_distance_from_origin，所以它应该是只读的。这种情况下，只修饰getter方法，它就是只读的了。\n",
    "    @property\n",
    "    def edge_distance_from_origin(self):\n",
    "        return abs(self.distance_from_origin() - self.radius)\n",
    "\n",
    "    @property\n",
    "    def area(self):\n",
    "        return math.pi * (self.radius ** 2)\n",
    "    \n",
    "    @property\n",
    "    def circumference(self):\n",
    "        return 2 * math.pi * self.radius\n",
    "    \n",
    "    def __eq__(self, other):\n",
    "        return super().__eq__(other) and self.radius == other.radius\n",
    "\n",
    "    def __repr__(self):\n",
    "        return \"Circle({0.radius!r}, {0.x!r}, {0.y!r})\".format(self)\n",
    "\n",
    "    def __str__(self):\n",
    "        return repr(self)"
   ]
  },
  {
   "cell_type": "code",
   "execution_count": 23,
   "metadata": {},
   "outputs": [
    {
     "output_type": "execute_result",
     "data": {
      "text/plain": [
       "5"
      ]
     },
     "metadata": {},
     "execution_count": 23
    }
   ],
   "source": [
    "c = Circle(5, 3, 4)\n",
    "c.radius #调用私有属性的getter方法，因为被修饰过了，所以不需要括号当method调用，像attribute读取就行"
   ]
  },
  {
   "source": [
    "c.radius = 6 #调用私有属性的setter方法，因为被修饰过了，所以看起来像赋值而不是method调用\n",
    "c"
   ],
   "cell_type": "code",
   "metadata": {},
   "execution_count": 24,
   "outputs": [
    {
     "output_type": "execute_result",
     "data": {
      "text/plain": [
       "Circle(6, 3, 4)"
      ]
     },
     "metadata": {},
     "execution_count": 24
    }
   ]
  },
  {
   "cell_type": "code",
   "execution_count": 25,
   "metadata": {},
   "outputs": [
    {
     "output_type": "execute_result",
     "data": {
      "text/plain": [
       "1.0"
      ]
     },
     "metadata": {},
     "execution_count": 25
    }
   ],
   "source": [
    "c.edge_distance_from_origin #调用一个内禀方法，因为被修饰过了，所以不需要括号当method调用，像attribute读取就行"
   ]
  },
  {
   "source": [
    "## Property总结  \n",
    "设置特性：意思就是把一个内禀的方法(a method only takes self as input), 用@property修饰器修饰。那么该方法就成为了一个特性。  \n",
    "1. @property修饰一个属性(一般是私有属性)的getter方法  \n",
    "2. 用@property修饰一个私有属性的getter方法之后，可以用其衍生的修饰器修饰该私有属性的setter方法和deleter方法(与getter方法同名)。修饰器会自动处理重名。  \n",
    "3. 可以不设置该私有属性的setter方法。这样就不能用赋值的方法set该私有属性，要调用专门的method来set。这样该属性看上去就是只读的了。"
   ],
   "cell_type": "markdown",
   "metadata": {}
  },
  {
   "source": [
    "## Decorator修饰器\n",
    "不带参数使用修饰器  \n",
    "@decorater  \n",
    "def some_func(args):suite  \n",
    "当使用some_func时：  \n",
    "output = some_func(args)  \n",
    "实际上是：  \n",
    "some_func = decorater(some_func) #decorater(some_func)输出了一个修饰后的函数，其被some_func这个函数名重新引用了。  \n",
    "output = some_func(args)"
   ],
   "cell_type": "markdown",
   "metadata": {}
  },
  {
   "cell_type": "code",
   "execution_count": 26,
   "metadata": {},
   "outputs": [],
   "source": [
    "# 希望限制discriminant函数的输出为非负，不然assertion\n",
    "def positive_result(function):#修饰器, 以一个函数作为输入\n",
    "    def wrapper(*args, **kwargs):\n",
    "        result = function(*args, **kwargs) #这样可以运行function, 不论如何安排输入\n",
    "        assert result >= 0, function.__name__ + \"() result isn't >= 0\" #修饰的部分\n",
    "        return result\n",
    "    # 如何直接return wrapper 的话，被修饰后的discriminant函数名实际上引用了上面的wrapper函数。\n",
    "    # 于是被修饰后的discriminant函数的docstring, 即__name__和__doc__属性是wrapper的属性\n",
    "    # 如果不需要用到这些属性，那也无所谓。但有时候使用discriminant时，需要docstring。\n",
    "    wrapper.__name__ = function.__name__\n",
    "    wrapper.__doc__ = function.__doc__\n",
    "    return wrapper # 修改wrapper的docstring之后再return，这样修饰后的discriminant函数就和原discriminant几乎一样了\n",
    "\n",
    "@positive_result\n",
    "def discriminant(a, b, c):\n",
    "    return b**2-4*a*c"
   ]
  },
  {
   "source": [
    "带参数使用修饰器  \n",
    "@decorater(deco_args)  \n",
    "def some_func(args):suite  \n",
    "当使用some_func时：  \n",
    "output = some_func(args)  \n",
    "实际上是：  \n",
    "some_func = decorater(deco_args)(some_func) #decorator(deco_args)先输出一个修饰器函数，该修饰器函数修饰some_func之后输出的新函数对象，被some_func这个函数名重新引用了  \n",
    "output = some_func(args)"
   ],
   "cell_type": "markdown",
   "metadata": {}
  },
  {
   "cell_type": "code",
   "execution_count": 27,
   "metadata": {},
   "outputs": [
    {
     "output_type": "execute_result",
     "data": {
      "text/plain": [
       "(0, 50.0, 100, 'percent')"
      ]
     },
     "metadata": {},
     "execution_count": 27
    }
   ],
   "source": [
    "# 希望限制percent函数的输出在minimun和maximum之间，超出上下限就返回上下限。\n",
    "# bounded是一个带参数的修饰器\n",
    "def bounded(minimum, maximun): #它应该return一个修饰器函数\n",
    "    def decorator(function): ##修饰器函数，在它内部要重新写一个wrapper来执行function然后返回修饰后的wrapper\n",
    "        def wrapper(*args, **kwargs):\n",
    "            result = function(*args, **kwargs)\n",
    "            if result < minimum:\n",
    "                result = minimum\n",
    "            if result > maximun:\n",
    "                result = maximun\n",
    "            return result\n",
    "        # 修改wrapper的docstring使之与输入function保持一致\n",
    "        wrapper.__name__ = function.__name__\n",
    "        wrapper.__doc__ = function.__doc__\n",
    "        return wrapper\n",
    "    return decorator #返回修饰器函数\n",
    "\n",
    "@bounded(0, 100) #每次修饰的时候就要输入修饰器的参数\n",
    "def percent(amount, total):\n",
    "    return amount/total*100\n",
    "\n",
    "percent(-1, 2), percent(10, 20), percent(20, 10), percent.__name__"
   ]
  },
  {
   "source": [
    "        def wrapper(*args, **kwargs):\n",
    "            result = function(*args, **kwargs)\n",
    "            if result < minimum:\n",
    "                result = minimum\n",
    "            if result > maximun:\n",
    "                result = maximun\n",
    "            return result\n",
    "        # 修改wrapper的docstring使之与输入function保持一致\n",
    "        wrapper.__name__ = function.__name__\n",
    "        wrapper.__doc__ = function.__doc__\n",
    "        return wrapper\n",
    "以上是修饰输入的function的过程，定义一个wrapper函数，先在其内部运行function，修饰function的结果之后输出修饰结果，然后修改wrapper的docstring使之与function保持一致，最后return wrapper。  \n",
    "我们发现，“修改一个函数的docstring，然后return该函数”本身就是一个修饰过程。  \n",
    "也就是说，我们可以使用修饰器来修饰wrapper函数，来使得输出的wrapper函数的docstring与function的docstring一致。所以这是一个带参数的修饰器。  \n",
    "模块functools的functools.wraps修饰器可以实现这一功能。 \n",
    " \n",
    "以下重写bounded修饰器："
   ],
   "cell_type": "markdown",
   "metadata": {}
  },
  {
   "cell_type": "code",
   "execution_count": 28,
   "metadata": {},
   "outputs": [
    {
     "output_type": "execute_result",
     "data": {
      "text/plain": [
       "(0, 50.0, 100, 'percent')"
      ]
     },
     "metadata": {},
     "execution_count": 28
    }
   ],
   "source": [
    "import functools\n",
    "# 希望限制percent函数的输出在minimun和maximum之间，超出上下限就返回上下限。\n",
    "# bounded是一个带参数的修饰器\n",
    "def bounded(minimum, maximun): #它应该return一个修饰器函数\n",
    "    def decorator(function): ##修饰器函数，在它内部要重新写一个wrapper来执行function然后返回修饰后的wrapper\n",
    "        @functools.wraps(function) #修改wrapper的docstring使之与输入function保持一致\n",
    "        def wrapper(*args, **kwargs):\n",
    "            result = function(*args, **kwargs)\n",
    "            if result < minimum:\n",
    "                result = minimum\n",
    "            if result > maximun:\n",
    "                result = maximun\n",
    "            return result\n",
    "        # 修改wrapper的docstring使之与输入function保持一致\n",
    "        # wrapper.__name__ = function.__name__\n",
    "        # wrapper.__doc__ = function.__doc__\n",
    "        return wrapper\n",
    "    return decorator #返回修饰器函数\n",
    "\n",
    "@bounded(0, 100) #每次修饰的时候就要输入修饰器的参数\n",
    "def percent(amount, total):\n",
    "    return amount/total*100\n",
    "\n",
    "percent(-1, 2), percent(10, 20), percent(20, 10), percent.__name__"
   ]
  },
  {
   "cell_type": "code",
   "execution_count": 30,
   "metadata": {},
   "outputs": [],
   "source": [
    "# 小练习，编写一个修饰器log，使得经它修饰后的任一个函数，在运行时都先打印 text + 函数名。text是一个变量。\n",
    "def log(text):\n",
    "    def decorator(function):\n",
    "        @functools.wraps(function)\n",
    "        def wrapper(*args, **kwargs):\n",
    "            print(text + function.__name__) #修饰function\n",
    "            output = function(*args, **kwargs)\n",
    "            return output\n",
    "        return wrapper ## wrapper是修饰后的function\n",
    "    return decorator\n",
    "\n",
    "@log(\"call: \")\n",
    "def sum_diff(a, b):\n",
    "    return (a+b, a-b)\n",
    "\n",
    "@log(\"execute: \")\n",
    "def now(month, day):\n",
    "    print(\"Today is %s, %s\" % (str(month), str(day)))"
   ]
  },
  {
   "cell_type": "code",
   "execution_count": 31,
   "metadata": {},
   "outputs": [
    {
     "output_type": "stream",
     "name": "stdout",
     "text": [
      "call: sum_diff\n"
     ]
    },
    {
     "output_type": "execute_result",
     "data": {
      "text/plain": [
       "(5, -1)"
      ]
     },
     "metadata": {},
     "execution_count": 31
    }
   ],
   "source": [
    "sum_diff(2, 3)"
   ]
  }
 ]
}